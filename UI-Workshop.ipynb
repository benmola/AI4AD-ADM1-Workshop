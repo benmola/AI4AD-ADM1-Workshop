# Cell 1: Setup Repository
!git clone https://github.com/benmola/AI4AD-ADM1-Workshop..git
%cd AI4AD-ADM1-Workshop.
!pip install -r requirements.txt -q

# Cell 2: Configure Plotly and Run UI
import plotly.io as pio

# Try multiple renderers for better compatibility
try:
    pio.renderers.default = 'notebook'
except:
    try:
        pio.renderers.default = 'colab'
    except:
        pio.renderers.default = 'browser'

# Import and run the Workshop UI
exec(open('Workshop-UI.py').read())
