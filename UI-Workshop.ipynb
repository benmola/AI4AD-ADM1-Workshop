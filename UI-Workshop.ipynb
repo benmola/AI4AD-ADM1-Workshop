# Setup and clone repository
!git clone https://github.com/benmola/AI4AD-ADM1-Workshop..git
%cd AI4AD-ADM1-Workshop.
!pip install -r requirements.txt -q

# Import and run the Workshop UI
exec(open('Workshop-UI.py').read())



# Try multiple renderers for better compatibility
try:
    pio.renderers.default = 'notebook'
except:
    try:
        pio.renderers.default = 'colab'
    except:
        pio.renderers.default = 'browser'
