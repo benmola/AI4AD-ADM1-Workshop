<artifact identifier="a99851d9-89cd-4c7c-bc19-badcd8daa94a" type="text/markdown" title="ADM1-Workshop-Notebook.ipynb">
# 🌱 AI4AD ADM1 Workshop for Biogas and Anaerobic Digestion

Welcome to the **Anaerobic Digestion Modelling Workshop**! This interactive notebook is designed for **biogas researchers, anaerobic digestion (AD) plant operators, consultants, and sustainability professionals** who want to explore how different feedstocks and operating conditions affect biogas production and process stability. Whether you're new to AD modelling or an experienced operator, this workshop will guide you step-by-step through the process using the **Anaerobic Digestion Model No. 1 (ADM1)**.

No prior coding experience is required! You’ll use a user-friendly interface with sliders to experiment with different scenarios, visualize results, and export data for further analysis. Let’s get started!

---

## 🎯 What You’ll Learn
In this workshop, you’ll:
- Simulate a biogas digester using the ADM1 model.
- Explore how feedstock mixtures (e.g., maize silage, food waste) impact **methane production** and **process stability** (pH, FOS/TAC ratio).
- Adjust key operating parameters like reactor volume, flow rate, and temperature.
- Visualize results with interactive plots and summary tables.
- Export simulation data for analysis in tools like Excel.

👉 **No software installation is needed.** Just follow the steps below and run each code cell in order.

---

## Step 1: Setting Up the Environment
The first step is to set up the tools and files needed to run the ADM1 simulator. The code below does three things:
1. Downloads the workshop materials from a GitHub repository.
2. Installs the required Python libraries (e.g., Plotly for visualization, pandas for data handling).
3. Configures the plotting tool to work in your environment.

Run the following code cell to get started. This may take a minute to complete, but you only need to do it once.

```python
# Setup Repository
!git clone https://github.com/benmola/AI4AD-ADM1-Workshop..git
%cd AI4AD-ADM1-Workshop.
!pip install -r requirements.txt -q

# Configure Plotly and Run UI
import plotly.io as pio
pio.renderers.default = 'colab'
# Import and run the Workshop UI
%run Workshop-UI.py
```

**What’s Happening?**
- `!git clone ...` downloads the workshop files, including the ADM1 simulator and feedstock data.
- `!pip install ...` installs Python libraries listed in `requirements.txt`.
- `pio.renderers.default = 'colab'` ensures plots display correctly in your environment.
- `%run Workshop-UI.py` launches the interactive interface you’ll use for simulations.

---

## Step 2: Understanding the Feedstock Database
The ADM1 simulator uses a database of common UK feedstocks, each with unique properties that affect biogas production and digester stability. The feedstocks included are:
- **Maize Silage**: High in carbohydrates, good for methane yield but can cause acidification if overused.
- **Grass Silage**: Balanced in nutrients, often used in agricultural digesters.
- **Food Waste**: High in lipids and proteins, boosts methane but can destabilize pH.
- **Cattle Slurry**: High in nitrogen, helps buffer the digester but has lower methane potential.

Each feedstock has different proportions of **carbohydrates, proteins, lipids, and nitrogen**, which influence:
- **Methane yield**: How much biogas (and methane) the digester produces.
- **Process stability**: Measured by pH, FOS (volatile organic acids), and TAC (total alkalinity).

The feedstock properties are based on typical values from scientific literature and are pre-loaded into the simulator.

---

## Step 3: Configuring Your Feeding Plan
The interactive interface lets you set the **feedstock mix** and **operating conditions** using sliders. Here’s what you can adjust:

### Feedstock Mix (%)
You can set the percentage of each feedstock (Maize Silage, Grass Silage, Food Waste, Cattle Slurry). The percentages are automatically normalized to sum to 100%. For example:

- Setting Maize Silage to 50%, Grass Silage to 30%, Food Waste to 10%, and Cattle Slurry to 10% means half the feedstock is maize silage, and so on.
- Setting all to 100% (Maize Silage: 100%, Grass Silage: 100%, Food Waste: 100%, Cattle Slurry: 100%) results in 25% (or 0.25) for each feedstock: Maize Silage: 100/400 = 0.25, Grass Silage: 100/400 = 0.25, Food Waste: 100/400 = 0.25, Cattle Slurry: 100/400 = 0.25.

### Process Parameters
- **Volume (V, m³)**: The size of the digester (1,000 to 10,000 m³).
- **Flow Rate (Q, m³/day)**: How much feedstock enters the digester daily (50 to 500 m³/day).
- **Temperature (T, °C)**: Operating temperature of the digester (25°C to 65°C).
- **Simulation Days**: How long to run the simulation (50 to 100 days).

The **Hydraulic Retention Time (HRT)** is calculated automatically as `HRT = Volume / Flow Rate`. A longer HRT gives microbes more time to break down feedstocks, but a shorter HRT allows higher throughput.

These settings are used by the ADM1 simulator to predict digester performance.

---

## Step 4: Running the ADM1 Simulation
Once you’ve set your feedstock mix and parameters, click the **Run Simulation** button to start the model. The simulator will:
1. Run the ADM1 model for the specified number of days.
2. Calculate key outputs like:
   - **Methane Flow (m³/day)**: How much methane (the main component of biogas) is produced.
   - **Biogas Flow (m³/day)**: Total gas output, including methane, carbon dioxide, and other gases.
   - **pH**: Indicates whether the digester is too acidic or alkaline (ideal range: ~6.5–7.5).
   - **FOS/TAC Ratio**: A key stability indicator (ideal range: ~0.3–0.6).
   - **Gas Pressure**: Pressure inside the digester.
   - **HRT**: Confirms the retention time based on your volume and flow settings.

### Outputs
- **Summary Table**: Shows steady-state values for pH, FOS, TAC, FOS/TAC, gas pressure, and HRT in a color-coded table.
- **Interactive Plot**: Displays methane and biogas flow rates over time, with play/pause buttons to animate the results.

---

## Step 5: Experimenting with Scenarios
The sliders make it easy to test different scenarios. Here are some ideas to try:
- **High Maize Silage**: Set Maize Silage to 100% and others to 0%. Observe high methane yield but watch for pH instability.
- **High Food Waste**: Set Food Waste to 100%. Note the high methane potential but potential for process upset (high FOS/TAC).
- **Balanced Mix**: Try 50% Maize Silage, 30% Grass Silage, 10% Food Waste, 10% Cattle Slurry for a stable process.
- **Short vs. Long HRT**: Adjust Volume and Flow Rate to create a short HRT (e.g., 10 days) or long HRT (e.g., 50 days). Compare stability and methane output.
- **Temperature Effects**: Test 35°C (mesophilic) vs. 55°C (thermophilic) to see how temperature impacts performance.

👉 **Goal**: Focus on trends (e.g., how methane yield changes with feedstock mix) rather than exact numbers, as real-world conditions vary.

---

## Step 6: Exporting Results
After running a simulation, click the **Export Results to CSV** button to save the data as a file (`ADM1_results.csv`). This file includes all simulation outputs (time, methane flow, biogas flow, pH, etc.) and can be opened in Excel, Python, or other tools for further analysis.

To download the file:
1. Click the link that appears after exporting.
2. Save the file to your computer.

---

## ✅ Wrap-Up
Congratulations! You’ve successfully run ADM1 simulations to explore anaerobic digestion. Key takeaways:
- **Feedstock Mix Matters**: Different feedstocks (e.g., maize vs. food waste) lead to different methane yields and stability profiles.
- **Operating Conditions Are Critical**: HRT, volume, flow rate, and temperature significantly affect digester performance.
- **Experimentation Is Key**: Use the sliders to test scenarios and build intuition about digester behavior.

You can re-run this notebook anytime by accessing the GitHub repository: [https://github.com/benmola/AI4AD-ADM1-Workshop](https://github.com/benmola/AI4AD-ADM1-Workshop).

---

## 🙋 Questions?
- Discuss with your workshop facilitator for hands-on help.
- Open an issue on the GitHub repo for technical questions or feedback.
- Want to dive deeper? Explore the ADM1 simulator code in `ADM1.py` or modify the feedstock database.

Happy simulating! 🌿
</artifact>
