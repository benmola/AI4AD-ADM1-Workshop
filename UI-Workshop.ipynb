{
  "cells": [
    {
      "cell_type": "code",
      "source": [
        # Setup Repository
!git clone https://github.com/benmola/AI4AD-ADM1-Workshop..git
%cd AI4AD-ADM1-Workshop.
!pip install -r requirements.txt -q

# Configure Plotly and Run UI
import plotly.io as pio
pio.renderers.default = 'colab'
# Import and run the Workshop UI
%run Workshop-UI.py
      ],
      "metadata": {},
      "outputs": [],
      "execution_count": null
    },
    
  ]
}
