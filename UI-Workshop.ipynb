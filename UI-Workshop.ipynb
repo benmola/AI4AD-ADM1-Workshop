{
 "cells": [
  {
   "cell_type": "markdown",
   "metadata": {},
   "source": [
    "# 🌱 AI4AD ADM1 Workshop for Biogas and Anaerobic Digestion\n",
    "\n",
    "Welcome to the **Anaerobic Digestion Modelling Workshop**! This interactive notebook is designed for **biogas researchers, anaerobic digestion (AD) plant operators, consultants, and sustainability professionals** who want to explore how different feedstocks and operating conditions affect biogas production and process stability. Whether you're new to AD modelling or an experienced operator, this workshop will guide you step-by-step through the process using the **Anaerobic Digestion Model No. 1 (ADM1)**.\n",
    "\n",
    "No prior coding experience is required! You’ll use a user-friendly interface with sliders to experiment with different scenarios, visualize results, and export data for further analysis. Let’s get started!\n",
    "\n",
    "---\n",
    "\n",
    "## 🎯 What You’ll Learn\n",
    "In this workshop, you’ll:\n",
    "- Simulate a biogas digester using the ADM1 model.\n",
    "- Explore how feedstock mixtures (e.g., maize silage, food waste) impact **methane production** and **process stability** (pH, FOS/TAC ratio).\n",
    "- Adjust key operating parameters like reactor volume, flow rate, and temperature.\n",
    "- Visualize results with interactive plots and summary tables.\n",
    "\n",
    "👉 **No software installation is needed.** Just follow the steps below and run each code cell in order.\n",
    "\n",
    "---"
   ]
  },
  {
   "cell_type": "markdown",
   "metadata": {},
   "source": [
    "## Step 1: Setting Up the Environment\n",
    "The first step is to set up the tools and files needed to run the ADM1 simulator. The code below does three things:\n",
    "1. Downloads the workshop materials from a GitHub repository.\n",
    "2. Installs the required Python libraries (e.g., Plotly for visualization, pandas for data handling).\n",
    "3. Configures the plotting tool to work in your environment.\n",
    "\n",
    "Run the following code cell to get started. This may take a minute to complete, but you only need to do it once.\n",
    "\n",
    "```python\n",
    "# Setup Repository\n",
    "!git clone https://github.com/benmola/AI4AD-ADM1-Workshop..git\n",
    "%cd AI4AD-ADM1-Workshop.\n",
    "!pip install -r requirements.txt -q\n",
    "\n",
    "# Configure Plotly and Run UI\n",
    "import plotly.io as pio\n",
    "pio.renderers.default = 'colab'\n",
    "# Import and run the Workshop UI\n",
    "%run Workshop-UI.py\n",
    "```\n",
    "\n",
    "**What’s Happening?**\n",
    "- `!git clone ...` downloads the workshop files, including the ADM1 simulator and feedstock data.\n",
    "- `!pip install ...` installs Python libraries listed in `requirements.txt`.\n",
    "- `pio.renderers.default = 'colab'` ensures plots display correctly in your environment.\n",
    "- `%run Workshop-UI.py` launches the interactive interface you’ll use for simulations.\n",
    "\n",
    "---"
   ]
  },
  {
   "cell_type": "markdown",
   "metadata": {},
   "source": [
    "## Step 2: Understanding the Feedstock Database\n",
    "The ADM1 simulator uses a database of common UK feedstocks, each with unique properties that affect biogas production and digester stability. The feedstocks included are:\n",
    "- **Maize Silage**: High in carbohydrates, good for methane yield but can cause acidification if overused.\n",
    "- **Grass Silage**: Balanced in nutrients, often used in agricultural digesters.\n",
    "- **Food Waste**: High in lipids and proteins, boosts methane but can destabilize pH.\n",
    "- **Cattle Slurry**: High in nitrogen, helps buffer the digester but has lower methane potential.\n",
    "\n",
    "Each feedstock has different proportions of **carbohydrates, proteins, lipids, and nitrogen**, which influence:\n",
    "- **Methane yield**: How much biogas (and methane) the digester produces.\n",
    "- **Process stability**: Measured by pH, FOS (volatile organic acids), and TAC (total alkalinity).\n",
    "\n",
    "The feedstock properties are based on typical values from scientific literature and are pre-loaded into the simulator.\n",
    "\n",
    "---"
   ]
  },
  {
   "cell_type": "markdown",
   "metadata": {},
   "source": [
    "## Step 3: Configuring Your Feeding Plan\n",
    "The interactive interface lets you set the **feedstock mix** and **operating conditions** using sliders. Here’s what you can adjust:\n",
    "\n",
    "### Feedstock Mix (%)\n",
    "You can set the percentage of each feedstock (Maize Silage, Grass Silage, Food Waste, Cattle Slurry). The percentages are automatically normalized to sum to 100%. For example:\n",
    "\n",
    "- Setting Maize Silage to 50%, Grass Silage to 30%, Food Waste to 10%, and Cattle Slurry to 10% means half the feedstock is maize silage, and so on.\n",
    "- Setting all to 100% (Maize Silage: 100%, Grass Silage: 100%, Food Waste: 100%, Cattle Slurry: 100%) results in 25% (or 0.25) for each feedstock: Maize Silage: 100/400 = 0.25, Grass Silage: 100/400 = 0.25, Food Waste: 100/400 = 0.25, Cattle Slurry: 100/400 = 0.25.\n",
    "\n",
    "### Process Parameters\n",
    "- **Volume (V, m³)**: The size of the digester (1,000 to 10,000 m³).\n",
    "- **Flow Rate (Q, m³/day)**: How much feedstock enters the digester daily (50 to 500 m³/day).\n",
    "- **Temperature (T, °C)**: Operating temperature of the digester (25°C to 65°C).\n",
    "- **Simulation Days**: How long to run the simulation (50 to 100 days).\n",
    "\n",
    "The **Hydraulic Retention Time (HRT)** is calculated automatically as `HRT = Volume / Flow Rate`. A longer HRT gives microbes more time to break down feedstocks, but a shorter HRT allows higher throughput.\n",
    "\n",
    "These settings are used by the ADM1 simulator to predict digester performance.\n",
    "\n",
    "---"
   ]
  },
  {
   "cell_type": "markdown",
   "metadata": {},
   "source": [
    "## Step 4: Running the ADM1 Simulation\n",
    "Once you’ve set your feedstock mix and parameters, click the **Run Simulation** button to start the model. The simulator will:\n",
    "1. Run the ADM1 model for the specified number of days.\n",
    "2. Calculate key outputs like:\n",
    "   - **Methane Flow (m³/day)**: How much methane (the main component of biogas) is produced.\n",
    "   - **Biogas Flow (m³/day)**: Total gas output, including methane, carbon dioxide, and other gases.\n",
    "   - **pH**: Indicates whether the digester is too acidic or alkaline (ideal range: ~6.5–7.5).\n",
    "   - **FOS/TAC Ratio**: A key stability indicator (ideal range: ~0.3–0.6).\n",
    "   - **Gas Pressure**: Pressure inside the digester.\n",
    "   - **HRT**: Confirms the retention time based on your volume and flow settings.\n",
    "\n",
    "### Outputs\n",
    "- **Summary Table**: Shows steady-state values for pH, FOS, TAC, FOS/TAC, gas pressure, and HRT in a color-coded table.\n",
    "- **Interactive Plot**: Displays methane and biogas flow rates over time, with play/pause buttons to animate the results.\n",
    "\n",
    "---"
   ]
  },
  {
   "cell_type": "markdown",
   "metadata": {},
   "source": [
    "## Step 5: Experimenting with Scenarios\n",
    "The sliders make it easy to test different scenarios. Here are some ideas to try:\n",
    "- **High Maize Silage**: Set Maize Silage to 100% and others to 0%. Observe high methane yield but watch for pH instability.\n",
    "- **High Food Waste**: Set Food Waste to 100%. Note the high methane potential but potential for process upset (high FOS/TAC).\n",
    "- **Balanced Mix**: Try 50% Maize Silage, 30% Grass Silage, 10% Food Waste, 10% Cattle Slurry for a stable process.\n",
    "- **Short vs. Long HRT**: Adjust Volume and Flow Rate to create a short HRT (e.g., 10 days) or long HRT (e.g., 50 days). Compare stability and methane output.\n",
    "- **Temperature Effects**: Test 35°C (mesophilic) vs. 55°C (thermophilic) to see how temperature impacts performance.\n",
    "\n",
    "👉 **Goal**: Focus on trends (e.g., how methane yield changes with feedstock mix) rather than exact numbers, as real-world conditions vary.\n",
    "\n",
    "---"
   ]
  },
  {
   "cell_type": "markdown",
   "metadata": {},
   "source": [
    "## ✅ Wrap-Up\n",
    "Congratulations! You’ve successfully run ADM1 simulations to explore anaerobic digestion. Key takeaways:\n",
    "- **Feedstock Mix Matters**: Different feedstocks (e.g., maize vs. food waste) lead to different methane yields and stability profiles.\n",
    "- **Operating Conditions Are Critical**: HRT, volume, flow rate, and temperature significantly affect digester performance.\n",
    "- **Experimentation Is Key**: Use the sliders to test scenarios and build intuition about digester behavior.\n",
    "\n",
    "You can re-run this notebook anytime by accessing the GitHub repository: [https://github.com/benmola/AI4AD-ADM1-Workshop.](https://github.com/benmola/AI4AD-ADM1-Workshop.).\n",
    "\n",
    "---"
   ]
  },
  {
   "cell_type": "markdown",
   "metadata": {},
   "source": [
    "## 🙋 Questions?\n",
    "- Discuss with your workshop facilitator for hands-on help.\n",
    "- Open an issue on the GitHub repo for technical questions or feedback.\n",
    "- Want to dive deeper? Explore the ADM1 simulator code in `ADM1.py` or modify the feedstock database.\n",
    "\n",
    "Happy simulating! 🌿"
   ]
  },
  {
   "cell_type": "code",
   "execution_count": null,
   "metadata": {},
   "outputs": [],
   "source": [
    "# Setup Repository\n",
    "!git clone https://github.com/benmola/AI4AD-ADM1-Workshop..git\n",
    "%cd AI4AD-ADM1-Workshop.\n",
    "!pip install -r requirements.txt -q\n",
    "\n",
    "# Configure Plotly and Run UI\n",
    "import plotly.io as pio\n",
    "pio.renderers.default = 'colab'\n",
    "# Import and run the Workshop UI\n",
    "%run Workshop-UI.py"
   ]
  }
 ],
 "metadata": {
  "kernelspec": {
   "display_name": "Python 3",
   "language": "python",
   "name": "python3"
  },
  "language_info": {
   "codemirror_mode": {
    "name": "ipython",
    "version": 3
   },
   "file_extension": ".py",
   "mimetype": "text/x-python",
   "name": "python",
   "nbconvert_exporter": "python",
   "pygments_lexer": "ipython3",
   "version": "3.8.5"
  }
 },
 "nbformat": 4,
 "nbformat_minor": 4
}
