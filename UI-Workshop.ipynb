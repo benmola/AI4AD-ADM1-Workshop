{
  "cells": [
    {
      "cell_type": "code",
      "source": [
        "# Cell 1: Setup Repository\n",
        "!git clone https://github.com/benmola/AI4AD-ADM1-Workshop..git\n",
        "%cd AI4AD-ADM1-Workshop.\n",
        "!pip install -r requirements.txt -q\n"
      ],
      "metadata": {},
      "outputs": [],
      "execution_count": null
    },
    {
      "cell_type": "code",
      "source": [
        "# Cell 2: Configure Plotly and Run UI\n",
        "import plotly.io as pio\n",
        "\n",
        "# Try multiple renderers for better compatibility\n",
        "try:\n",
        "    pio.renderers.default = 'notebook'\n",
        "except:\n",
        "    try:\n",
        "        pio.renderers.default = 'colab'\n",
        "    except:\n",
        "        pio.renderers.default = 'browser'\n",
        "\n",
        "# Import and run the Workshop UI\n",
        "exec(open('Workshop-UI.py').read())\n"
      ],
      "metadata": {},
      "outputs": [],
      "execution_count": null
    }
  ]
}
