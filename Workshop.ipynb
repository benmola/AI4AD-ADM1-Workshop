{
 "cells": [
  {
   "cell_type": "markdown",
   "metadata": {},
   "source": [
    "# 🌱 AI4AD ADM1 Workshop\n",
    "\n",
    "Welcome to the **Anaerobic Digestion Modelling Workshop**.\n",
    "\n",
    "This notebook uses the **Anaerobic Digestion Model No. 1 (ADM1)** to simulate:\n",
    "- Methane production\n",
    "- Process stability (pH, FOS/TAC)\n",
    "- Effects of different feedstock mixtures\n",
    "\n",
    "👉 You don’t need to install anything. Just run each cell in order."
   ]
  },
  {
   "cell_type": "markdown",
   "metadata": {},
   "source": [
    "## Step 1: Setup\n",
    "\n",
    "We start by cloning the GitHub repository `AI4AD-ADM1-Workshop` which contains:\n",
    "- `ADM1.py` → the simulator code\n",
    "- `Workshop.ipynb` → this notebook\n",
    "\n",
    "We also install any required Python libraries."
   ]
  },
  {
   "cell_type": "code",
   "execution_count": null,
   "metadata": {},
   "outputs": [],
   "source": [
    "!git clone https://github.com/benmola/AI4AD-ADM1-Workshop..git\n",
    "%cd AI4AD-ADM1-Workshop\n",
    "\n",
    "!pip install -r requirements.txt\n",
    "\n",
    "from ADM1 import ADM1Simulator"
   ]
  },
  {
   "cell_type": "markdown",
   "metadata": {},
   "source": [
    "## Step 2: Feedstock Database\n",
    "\n",
    "The database contains typical values (from literature) for common UK feedstocks:\n",
    "- Maize silage\n",
    "- Grass silage\n",
    "- Food waste\n",
    "- Cattle slurry\n",
    "\n",
    "Each has different proportions of carbohydrates, proteins, lipids, and nitrogen.\n",
    "This affects methane yield and process stability."
   ]
  },
  {
   "cell_type": "code",
   "execution_count": null,
   "metadata": {},
   "outputs": [],
   "source": [
    "import pandas as pd\n",
    "\n",
    "feed_db = pd.read_excel(\"Feedstock_Characteristics_Database.xlsx\")\n",
    "feed_db.head()"
   ]
  },
  {
   "cell_type": "markdown",
   "metadata": {},
   "source": [
    "## Step 3: Feeding Plan\n",
    "\n",
    "You can set the fractions of each feedstock.  \n",
    "They will **auto-normalise** so total = 1.\n",
    "\n",
    "You also set:\n",
    "- HRT (Hydraulic Retention Time)\n",
    "- Reactor Volume (V)\n",
    "- Flow rate (Q)\n",
    "- Temperature (°C)\n",
    "\n",
    "These values are saved in `Fixed_Feeding.xlsx` and passed to the ADM1 simulator."
   ]
  },
  {
   "cell_type": "code",
   "execution_count": null,
   "metadata": {},
   "outputs": [],
   "source": [
    "def generate_feeding_excel(feed_plan, filename=\"Input/Fixed_Feeding.xlsx\"):\n",
    "    feedstocks = [\"maize_silage\", \"grass_silage\", \"food_waste\", \"cattle_slurry\"]\n",
    "    total = sum(feed_plan.get(k,0) for k in feedstocks)\n",
    "    if total > 0:\n",
    "        feed_plan = {k: feed_plan.get(k,0)/total for k in feedstocks}\n",
    "    df = pd.DataFrame([{\n",
    "        \"time\": 1,\n",
    "        \"maize_silage\": feed_plan.get(\"maize_silage\",0),\n",
    "        \"grass_silage\": feed_plan.get(\"grass_silage\",0),\n",
    "        \"food_waste\": feed_plan.get(\"food_waste\",0),\n",
    "        \"cattle_slurry\": feed_plan.get(\"cattle_slurry\",0),\n",
    "        \"HRT\": feed_plan.get(\"HRT\",48),\n",
    "        \"V\": feed_plan.get(\"V\",6520),\n",
    "        \"Q\": feed_plan.get(\"Q\",136.63),\n",
    "        \"T\": feed_plan.get(\"T\",45)\n",
    "    }])\n",
    "    df.to_excel(filename, index=False)\n",
    "    return filename"
   ]
  },
  {
   "cell_type": "markdown",
   "metadata": {},
   "source": [
    "## Step 4: Running the ADM1 Model\n",
    "\n",
    "Now we simulate the digester for the chosen feedstock mix and parameters.\n",
    "\n",
    "The model outputs:\n",
    "- Methane flow\n",
    "- Biogas\n",
    "- pH\n",
    "- FOS/TAC ratio\n",
    "- Gas pressure\n",
    "\n",
    "You’ll see both **plots** and a **summary table**."
   ]
  },
  {
   "cell_type": "code",
   "execution_count": null,
   "metadata": {},
   "outputs": [],
   "source": [
    "import matplotlib.pyplot as plt\n",
    "\n",
    "def run_adm1(maize_silage, grass_silage, food_waste, cattle_slurry, HRT, V, Q, T):\n",
    "    feed_plan = {\n",
    "        \"maize_silage\": maize_silage,\n",
    "        \"grass_silage\": grass_silage,\n",
    "        \"food_waste\": food_waste,\n",
    "        \"cattle_slurry\": cattle_slurry,\n",
    "        \"HRT\": HRT,\n",
    "        \"V\": V,\n",
    "        \"Q\": Q,\n",
    "        \"T\": T\n",
    "    }\n",
    "    feed_file = generate_feeding_excel(feed_plan)\n",
    "    simulator = ADM1Simulator(\"Feedstock_Characteristics_Database.xlsx\", feed_file)\n",
    "    simulator.run()\n",
    "    _, output_data = simulator.get_results()\n",
    "    if output_data.empty:\n",
    "        print(\"⚠️ No results returned.\")\n",
    "        return\n",
    "    summary = {\n",
    "        \"pH\": output_data[\"pH\"].iloc[-1],\n",
    "        \"FOS\": output_data[\"FOS\"].iloc[-1],\n",
    "        \"TAC\": output_data[\"TAC\"].iloc[-1],\n",
    "        \"FOS/TAC\": output_data[\"FOS/TAC\"].iloc[-1],\n",
    "        \"Methane Flow Rate\": output_data[\"q_ch4\"].iloc[-1],\n",
    "        \"Biogas\": output_data[\"q_gas\"].iloc[-1],\n",
    "        \"Gas Pressure\": output_data[\"P_gas\"].iloc[-1]\n",
    "    }\n",
    "    fig, ax = plt.subplots(3,1, figsize=(8,10), sharex=True)\n",
    "    ax[0].plot(output_data[\"time\"], output_data[\"q_ch4\"])\n",
    "    ax[0].set_ylabel(\"Methane (m³/d)\")\n",
    "    ax[1].plot(output_data[\"time\"], output_data[\"pH\"], color=\"green\")\n",
    "    ax[1].set_ylabel(\"pH\")\n",
    "    ax[2].plot(output_data[\"time\"], output_data[\"FOS\"], color=\"red\", label=\"FOS\")\n",
    "    ax[2].plot(output_data[\"time\"], output_data[\"TAC\"], color=\"blue\", label=\"TAC\")\n",
    "    ax[2].set_ylabel(\"FOS/TAC\")\n",
    "    ax[2].legend()\n",
    "    ax[2].set_xlabel(\"Time (days)\")\n",
    "    plt.show()\n",
    "    print(\"📊 Simulation summary:\")\n",
    "    for k,v in summary.items():\n",
    "        print(f\"- {k}: {v:.2f}\")"
   ]
  },
  {
   "cell_type": "markdown",
   "metadata": {},
   "source": [
    "## Step 5: Interactive Sliders\n",
    "\n",
    "Use the sliders to experiment with feed fractions and operating conditions.  \n",
    "Try scenarios like:\n",
    "- All maize silage\n",
    "- All food waste\n",
    "- Short vs long HRT\n",
    "\n",
    "👉 The goal is to observe **trends**, not exact numbers."
   ]
  },
  {
   "cell_type": "code",
   "execution_count": null,
   "metadata": {},
   "outputs": [],
   "source": [
    "import ipywidgets as widgets\n",
    "from ipywidgets import FloatSlider, interact\n",
    "\n",
    "interact(\n",
    "    run_adm1,\n",
    "    maize_silage=FloatSlider(min=0, max=1, step=0.1, value=0.5, description=\"Maize Silage\"),\n",
    "    grass_silage=FloatSlider(min=0, max=1, step=0.1, value=0.3, description=\"Grass Silage\"),\n",
    "    food_waste=FloatSlider(min=0, max=1, step=0.1, value=0.1, description=\"Food Waste\"),\n",
    "    cattle_slurry=FloatSlider(min=0, max=1, step=0.1, value=0.1, description=\"Cattle Slurry\"),\n",
    "    HRT=FloatSlider(min=10, max=80, step=2, value=48, description=\"HRT (days)\"),\n",
    "    V=FloatSlider(min=1000, max=10000, step=500, value=6520, description=\"V (m³)\"),\n",
    "    Q=FloatSlider(min=50, max=500, step=10, value=136.63, description=\"Q (m³/d)\"),\n",
    "    T=FloatSlider(min=15, max=60, step=1, value=45, description=\"T (°C)\"),\n",
    ");"
   ]
  },
  {
   "cell_type": "markdown",
   "metadata": {},
   "source": [
    "## Step 6: Export Results\n",
    "\n",
    "After running a simulation, export the results as a CSV for further analysis in Excel or other tools."
   ]
  },
  {
   "cell_type": "code",
   "execution_count": null,
   "metadata": {},
   "outputs": [],
   "source": [
    "from google.colab import files\n",
    "\n",
    "def export_results(maize_silage=0.5, grass_silage=0.3, food_waste=0.1, cattle_slurry=0.1,\n",
    "                   HRT=48, V=6520, Q=136.63, T=45):\n",
    "    feed_plan = {\n",
    "        \"maize_silage\": maize_silage,\n",
    "        \"grass_silage\": grass_silage,\n",
    "        \"food_waste\": food_waste,\n",
    "        \"cattle_slurry\": cattle_slurry,\n",
    "        \"HRT\": HRT,\n",
    "        \"V\": V,\n",
    "        \"Q\": Q,\n",
    "        \"T\": T\n",
    "    }\n",
    "    feed_file = generate_feeding_excel(feed_plan)\n",
    "    simulator = ADM1Simulator(\"Feedstock_Characteristics_Database.xlsx\", feed_file)\n",
    "    _, output_data = simulator.get_results()\n",
    "    filename = \"ADM1_results.csv\"\n",
    "    output_data.to_csv(filename, index=False)\n",
    "    files.download(filename)\n",
    "    print(f\"✅ CSV exported: {filename}\")"
   ]
  },
  {
   "cell_type": "markdown",
   "metadata": {},
   "source": [
    "# ✅ Wrap-Up\n",
    "\n",
    "Congratulations! You’ve run your first ADM1 simulations in Python.\n",
    "\n",
    "- Different feedstocks → different methane yields and process stability  \n",
    "- Process conditions (HRT, volume, flow, temperature) → influence stability and efficiency  \n",
    "\n",
    "📥 You can re-run this anytime via the [GitHub repo](https://github.com/benmola/AI4AD-ADM1-Workshop.).\n",
    "\n",
    "🙋 Questions? Discuss with your facilitator or open an issue in the GitHub repo."
   ]
  }
 ],
 "metadata": {
  "kernelspec": {
   "name": "python3",
   "display_name": "Python 3"
  },
  "language_info": {
   "name": "python",
   "version": "3.11"
  }
 },
 "nbformat": 4,
 "nbformat_minor": 5
}
